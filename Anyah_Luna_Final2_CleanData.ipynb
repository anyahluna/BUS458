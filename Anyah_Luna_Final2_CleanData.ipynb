{
  "nbformat": 4,
  "nbformat_minor": 0,
  "metadata": {
    "colab": {
      "provenance": []
    },
    "kernelspec": {
      "name": "python3",
      "display_name": "Python 3"
    },
    "language_info": {
      "name": "python"
    }
  },
  "cells": [
    {
      "cell_type": "markdown",
      "source": [
        "# Final Project: Data Science Salary Analysis\n",
        "By: Anyah Luna"
      ],
      "metadata": {
        "id": "XN0ghWj8tZAG"
      }
    },
    {
      "cell_type": "markdown",
      "source": [
        "**Part 1:** Clean the Data"
      ],
      "metadata": {
        "id": "M-4Xvo36tywH"
      }
    },
    {
      "cell_type": "code",
      "execution_count": 1,
      "metadata": {
        "id": "ULrY2wDBi0V6"
      },
      "outputs": [],
      "source": [
        "import pandas as pd\n",
        "import numpy as np\n",
        "from sklearn.ensemble import GradientBoostingRegressor\n",
        "from sklearn.impute import SimpleImputer\n",
        "from sklearn.preprocessing import OneHotEncoder\n",
        "from sklearn.compose import ColumnTransformer\n",
        "from sklearn.pipeline import Pipeline\n",
        "from collections import defaultdict"
      ]
    },
    {
      "cell_type": "code",
      "source": [
        "# Load the full original dataset\n",
        "from google.colab import files\n",
        "uploaded = files.upload()\n"
      ],
      "metadata": {
        "colab": {
          "base_uri": "https://localhost:8080/",
          "height": 73
        },
        "id": "nTcaRp6yi52f",
        "outputId": "6690b308-f39a-4f8d-8ecd-60cc9a999a3a"
      },
      "execution_count": 10,
      "outputs": [
        {
          "output_type": "display_data",
          "data": {
            "text/plain": [
              "<IPython.core.display.HTML object>"
            ],
            "text/html": [
              "\n",
              "     <input type=\"file\" id=\"files-806d8033-fe86-4379-9491-5fa3b05c677e\" name=\"files[]\" multiple disabled\n",
              "        style=\"border:none\" />\n",
              "     <output id=\"result-806d8033-fe86-4379-9491-5fa3b05c677e\">\n",
              "      Upload widget is only available when the cell has been executed in the\n",
              "      current browser session. Please rerun this cell to enable.\n",
              "      </output>\n",
              "      <script>// Copyright 2017 Google LLC\n",
              "//\n",
              "// Licensed under the Apache License, Version 2.0 (the \"License\");\n",
              "// you may not use this file except in compliance with the License.\n",
              "// You may obtain a copy of the License at\n",
              "//\n",
              "//      http://www.apache.org/licenses/LICENSE-2.0\n",
              "//\n",
              "// Unless required by applicable law or agreed to in writing, software\n",
              "// distributed under the License is distributed on an \"AS IS\" BASIS,\n",
              "// WITHOUT WARRANTIES OR CONDITIONS OF ANY KIND, either express or implied.\n",
              "// See the License for the specific language governing permissions and\n",
              "// limitations under the License.\n",
              "\n",
              "/**\n",
              " * @fileoverview Helpers for google.colab Python module.\n",
              " */\n",
              "(function(scope) {\n",
              "function span(text, styleAttributes = {}) {\n",
              "  const element = document.createElement('span');\n",
              "  element.textContent = text;\n",
              "  for (const key of Object.keys(styleAttributes)) {\n",
              "    element.style[key] = styleAttributes[key];\n",
              "  }\n",
              "  return element;\n",
              "}\n",
              "\n",
              "// Max number of bytes which will be uploaded at a time.\n",
              "const MAX_PAYLOAD_SIZE = 100 * 1024;\n",
              "\n",
              "function _uploadFiles(inputId, outputId) {\n",
              "  const steps = uploadFilesStep(inputId, outputId);\n",
              "  const outputElement = document.getElementById(outputId);\n",
              "  // Cache steps on the outputElement to make it available for the next call\n",
              "  // to uploadFilesContinue from Python.\n",
              "  outputElement.steps = steps;\n",
              "\n",
              "  return _uploadFilesContinue(outputId);\n",
              "}\n",
              "\n",
              "// This is roughly an async generator (not supported in the browser yet),\n",
              "// where there are multiple asynchronous steps and the Python side is going\n",
              "// to poll for completion of each step.\n",
              "// This uses a Promise to block the python side on completion of each step,\n",
              "// then passes the result of the previous step as the input to the next step.\n",
              "function _uploadFilesContinue(outputId) {\n",
              "  const outputElement = document.getElementById(outputId);\n",
              "  const steps = outputElement.steps;\n",
              "\n",
              "  const next = steps.next(outputElement.lastPromiseValue);\n",
              "  return Promise.resolve(next.value.promise).then((value) => {\n",
              "    // Cache the last promise value to make it available to the next\n",
              "    // step of the generator.\n",
              "    outputElement.lastPromiseValue = value;\n",
              "    return next.value.response;\n",
              "  });\n",
              "}\n",
              "\n",
              "/**\n",
              " * Generator function which is called between each async step of the upload\n",
              " * process.\n",
              " * @param {string} inputId Element ID of the input file picker element.\n",
              " * @param {string} outputId Element ID of the output display.\n",
              " * @return {!Iterable<!Object>} Iterable of next steps.\n",
              " */\n",
              "function* uploadFilesStep(inputId, outputId) {\n",
              "  const inputElement = document.getElementById(inputId);\n",
              "  inputElement.disabled = false;\n",
              "\n",
              "  const outputElement = document.getElementById(outputId);\n",
              "  outputElement.innerHTML = '';\n",
              "\n",
              "  const pickedPromise = new Promise((resolve) => {\n",
              "    inputElement.addEventListener('change', (e) => {\n",
              "      resolve(e.target.files);\n",
              "    });\n",
              "  });\n",
              "\n",
              "  const cancel = document.createElement('button');\n",
              "  inputElement.parentElement.appendChild(cancel);\n",
              "  cancel.textContent = 'Cancel upload';\n",
              "  const cancelPromise = new Promise((resolve) => {\n",
              "    cancel.onclick = () => {\n",
              "      resolve(null);\n",
              "    };\n",
              "  });\n",
              "\n",
              "  // Wait for the user to pick the files.\n",
              "  const files = yield {\n",
              "    promise: Promise.race([pickedPromise, cancelPromise]),\n",
              "    response: {\n",
              "      action: 'starting',\n",
              "    }\n",
              "  };\n",
              "\n",
              "  cancel.remove();\n",
              "\n",
              "  // Disable the input element since further picks are not allowed.\n",
              "  inputElement.disabled = true;\n",
              "\n",
              "  if (!files) {\n",
              "    return {\n",
              "      response: {\n",
              "        action: 'complete',\n",
              "      }\n",
              "    };\n",
              "  }\n",
              "\n",
              "  for (const file of files) {\n",
              "    const li = document.createElement('li');\n",
              "    li.append(span(file.name, {fontWeight: 'bold'}));\n",
              "    li.append(span(\n",
              "        `(${file.type || 'n/a'}) - ${file.size} bytes, ` +\n",
              "        `last modified: ${\n",
              "            file.lastModifiedDate ? file.lastModifiedDate.toLocaleDateString() :\n",
              "                                    'n/a'} - `));\n",
              "    const percent = span('0% done');\n",
              "    li.appendChild(percent);\n",
              "\n",
              "    outputElement.appendChild(li);\n",
              "\n",
              "    const fileDataPromise = new Promise((resolve) => {\n",
              "      const reader = new FileReader();\n",
              "      reader.onload = (e) => {\n",
              "        resolve(e.target.result);\n",
              "      };\n",
              "      reader.readAsArrayBuffer(file);\n",
              "    });\n",
              "    // Wait for the data to be ready.\n",
              "    let fileData = yield {\n",
              "      promise: fileDataPromise,\n",
              "      response: {\n",
              "        action: 'continue',\n",
              "      }\n",
              "    };\n",
              "\n",
              "    // Use a chunked sending to avoid message size limits. See b/62115660.\n",
              "    let position = 0;\n",
              "    do {\n",
              "      const length = Math.min(fileData.byteLength - position, MAX_PAYLOAD_SIZE);\n",
              "      const chunk = new Uint8Array(fileData, position, length);\n",
              "      position += length;\n",
              "\n",
              "      const base64 = btoa(String.fromCharCode.apply(null, chunk));\n",
              "      yield {\n",
              "        response: {\n",
              "          action: 'append',\n",
              "          file: file.name,\n",
              "          data: base64,\n",
              "        },\n",
              "      };\n",
              "\n",
              "      let percentDone = fileData.byteLength === 0 ?\n",
              "          100 :\n",
              "          Math.round((position / fileData.byteLength) * 100);\n",
              "      percent.textContent = `${percentDone}% done`;\n",
              "\n",
              "    } while (position < fileData.byteLength);\n",
              "  }\n",
              "\n",
              "  // All done.\n",
              "  yield {\n",
              "    response: {\n",
              "      action: 'complete',\n",
              "    }\n",
              "  };\n",
              "}\n",
              "\n",
              "scope.google = scope.google || {};\n",
              "scope.google.colab = scope.google.colab || {};\n",
              "scope.google.colab._files = {\n",
              "  _uploadFiles,\n",
              "  _uploadFilesContinue,\n",
              "};\n",
              "})(self);\n",
              "</script> "
            ]
          },
          "metadata": {}
        },
        {
          "output_type": "stream",
          "name": "stdout",
          "text": [
            "Saving kaggle_survey_2022_responses.csv to kaggle_survey_2022_responses (2).csv\n"
          ]
        }
      ]
    },
    {
      "cell_type": "code",
      "source": [
        "df = pd.read_csv('kaggle_survey_2022_responses.csv')\n",
        "df = df.iloc[1:].copy()\n"
      ],
      "metadata": {
        "colab": {
          "base_uri": "https://localhost:8080/"
        },
        "id": "TadeSYuGlIbr",
        "outputId": "ad637d03-8ec0-4655-d17c-c4404bb7010f"
      },
      "execution_count": 22,
      "outputs": [
        {
          "output_type": "stream",
          "name": "stderr",
          "text": [
            "<ipython-input-22-b750f5a1133f>:1: DtypeWarning: Columns (0,15,43,57,73,88,104,118,126,132,170,200,208,215,225,248,255,257,260,270,271,272,277,281,294) have mixed types. Specify dtype option on import or set low_memory=False.\n",
            "  df = pd.read_csv('kaggle_survey_2022_responses.csv')\n"
          ]
        }
      ]
    },
    {
      "cell_type": "code",
      "source": [
        "#age to numeric avg\n",
        "def age_to_mid(x):\n",
        "    if pd.isna(x): return np.nan\n",
        "    x = str(x).strip()\n",
        "    if '+' in x: return int(x.replace('+','')) + 2\n",
        "    try:\n",
        "        low, high = map(int, x.split('-'))\n",
        "        return (low + high) / 2\n",
        "    except:\n",
        "        return np.nan\n",
        "\n",
        "df['Age_mid'] = df['Q2'].apply(age_to_mid)"
      ],
      "metadata": {
        "id": "jZASHaJOo8FW"
      },
      "execution_count": 24,
      "outputs": []
    },
    {
      "cell_type": "code",
      "source": [
        "# education to ordinal\n",
        "edu_levels = [\n",
        "    \"No formal education past high school\",\n",
        "    \"Some college/university study without earning a bachelor’s degree\",\n",
        "    \"Bachelor’s degree\",\n",
        "    \"Master’s degree\",\n",
        "    \"Doctoral degree\",\n",
        "    \"Professional doctorate\"\n",
        "]\n",
        "edu_map = {level: i for i, level in enumerate(edu_levels)}\n",
        "df['Education_ord'] = df['Q8'].map(edu_map)\n",
        "\n",
        "#experience to numeric\n",
        "experience_map = {\n",
        "    '< 1 years': 0.5,\n",
        "    '1-2 years': 1.5,\n",
        "    '3-5 years': 4,\n",
        "    '5-10 years': 7.5,\n",
        "    '10-20 years': 15,\n",
        "    '20+ years': 25\n",
        "}\n",
        "df['YearsCode_num'] = df['Q11'].map(experience_map)\n"
      ],
      "metadata": {
        "id": "o5H_cb2Si8RI"
      },
      "execution_count": 25,
      "outputs": []
    },
    {
      "cell_type": "code",
      "source": [
        "#create other countries\n",
        "country_counts = df['Q4'].value_counts()\n",
        "rare_countries = country_counts[country_counts < 50].index\n",
        "df['Country_clean'] = df['Q4'].replace(rare_countries, 'Other')\n"
      ],
      "metadata": {
        "id": "DA5wXYN-i8Vj"
      },
      "execution_count": 27,
      "outputs": []
    },
    {
      "cell_type": "code",
      "source": [
        "# Identify all multi-select columns\n",
        "multi_part_cols = [col for col in df.columns if any(col.startswith(f\"Q{n}_\") for n in range(6, 45))]\n",
        "from collections import defaultdict\n",
        "\n",
        "# Group by question\n",
        "grouped_by_question = defaultdict(list)\n",
        "for col in multi_part_cols:\n",
        "    question = col.split('_')[0]\n",
        "    grouped_by_question[question].append(col)\n",
        "\n",
        "# Create binary columns\n",
        "for question, cols in grouped_by_question.items():\n",
        "    for col in cols:\n",
        "        values = df[col].dropna().unique()\n",
        "        for val in values:\n",
        "            if pd.isna(val): continue\n",
        "            clean_name = f\"{question}_{val}\".strip().replace(\" \", \"_\").replace(\"/\", \"_\").replace(\"-\", \"_\").replace(\".\", \"_\").replace(\"(\", \"\").replace(\")\", \"\")\n",
        "            df[clean_name] = (df[col] == val).astype(int)\n",
        "\n",
        "# Drop original multi-select columns\n",
        "df.drop(columns=multi_part_cols, inplace=True)\n"
      ],
      "metadata": {
        "colab": {
          "base_uri": "https://localhost:8080/"
        },
        "id": "SNerSqQ9jmka",
        "outputId": "f81467e1-78ac-4430-e180-d75b815241c4"
      },
      "execution_count": 29,
      "outputs": [
        {
          "output_type": "stream",
          "name": "stderr",
          "text": [
            "<ipython-input-29-f7463e5f96ca>:18: PerformanceWarning: DataFrame is highly fragmented.  This is usually the result of calling `frame.insert` many times, which has poor performance.  Consider joining all columns at once using pd.concat(axis=1) instead. To get a de-fragmented frame, use `newframe = frame.copy()`\n",
            "  df[clean_name] = (df[col] == val).astype(int)\n",
            "<ipython-input-29-f7463e5f96ca>:18: PerformanceWarning: DataFrame is highly fragmented.  This is usually the result of calling `frame.insert` many times, which has poor performance.  Consider joining all columns at once using pd.concat(axis=1) instead. To get a de-fragmented frame, use `newframe = frame.copy()`\n",
            "  df[clean_name] = (df[col] == val).astype(int)\n",
            "<ipython-input-29-f7463e5f96ca>:18: PerformanceWarning: DataFrame is highly fragmented.  This is usually the result of calling `frame.insert` many times, which has poor performance.  Consider joining all columns at once using pd.concat(axis=1) instead. To get a de-fragmented frame, use `newframe = frame.copy()`\n",
            "  df[clean_name] = (df[col] == val).astype(int)\n",
            "<ipython-input-29-f7463e5f96ca>:18: PerformanceWarning: DataFrame is highly fragmented.  This is usually the result of calling `frame.insert` many times, which has poor performance.  Consider joining all columns at once using pd.concat(axis=1) instead. To get a de-fragmented frame, use `newframe = frame.copy()`\n",
            "  df[clean_name] = (df[col] == val).astype(int)\n",
            "<ipython-input-29-f7463e5f96ca>:18: PerformanceWarning: DataFrame is highly fragmented.  This is usually the result of calling `frame.insert` many times, which has poor performance.  Consider joining all columns at once using pd.concat(axis=1) instead. To get a de-fragmented frame, use `newframe = frame.copy()`\n",
            "  df[clean_name] = (df[col] == val).astype(int)\n",
            "<ipython-input-29-f7463e5f96ca>:18: PerformanceWarning: DataFrame is highly fragmented.  This is usually the result of calling `frame.insert` many times, which has poor performance.  Consider joining all columns at once using pd.concat(axis=1) instead. To get a de-fragmented frame, use `newframe = frame.copy()`\n",
            "  df[clean_name] = (df[col] == val).astype(int)\n",
            "<ipython-input-29-f7463e5f96ca>:18: PerformanceWarning: DataFrame is highly fragmented.  This is usually the result of calling `frame.insert` many times, which has poor performance.  Consider joining all columns at once using pd.concat(axis=1) instead. To get a de-fragmented frame, use `newframe = frame.copy()`\n",
            "  df[clean_name] = (df[col] == val).astype(int)\n",
            "<ipython-input-29-f7463e5f96ca>:18: PerformanceWarning: DataFrame is highly fragmented.  This is usually the result of calling `frame.insert` many times, which has poor performance.  Consider joining all columns at once using pd.concat(axis=1) instead. To get a de-fragmented frame, use `newframe = frame.copy()`\n",
            "  df[clean_name] = (df[col] == val).astype(int)\n",
            "<ipython-input-29-f7463e5f96ca>:18: PerformanceWarning: DataFrame is highly fragmented.  This is usually the result of calling `frame.insert` many times, which has poor performance.  Consider joining all columns at once using pd.concat(axis=1) instead. To get a de-fragmented frame, use `newframe = frame.copy()`\n",
            "  df[clean_name] = (df[col] == val).astype(int)\n",
            "<ipython-input-29-f7463e5f96ca>:18: PerformanceWarning: DataFrame is highly fragmented.  This is usually the result of calling `frame.insert` many times, which has poor performance.  Consider joining all columns at once using pd.concat(axis=1) instead. To get a de-fragmented frame, use `newframe = frame.copy()`\n",
            "  df[clean_name] = (df[col] == val).astype(int)\n",
            "<ipython-input-29-f7463e5f96ca>:18: PerformanceWarning: DataFrame is highly fragmented.  This is usually the result of calling `frame.insert` many times, which has poor performance.  Consider joining all columns at once using pd.concat(axis=1) instead. To get a de-fragmented frame, use `newframe = frame.copy()`\n",
            "  df[clean_name] = (df[col] == val).astype(int)\n",
            "<ipython-input-29-f7463e5f96ca>:18: PerformanceWarning: DataFrame is highly fragmented.  This is usually the result of calling `frame.insert` many times, which has poor performance.  Consider joining all columns at once using pd.concat(axis=1) instead. To get a de-fragmented frame, use `newframe = frame.copy()`\n",
            "  df[clean_name] = (df[col] == val).astype(int)\n",
            "<ipython-input-29-f7463e5f96ca>:18: PerformanceWarning: DataFrame is highly fragmented.  This is usually the result of calling `frame.insert` many times, which has poor performance.  Consider joining all columns at once using pd.concat(axis=1) instead. To get a de-fragmented frame, use `newframe = frame.copy()`\n",
            "  df[clean_name] = (df[col] == val).astype(int)\n",
            "<ipython-input-29-f7463e5f96ca>:18: PerformanceWarning: DataFrame is highly fragmented.  This is usually the result of calling `frame.insert` many times, which has poor performance.  Consider joining all columns at once using pd.concat(axis=1) instead. To get a de-fragmented frame, use `newframe = frame.copy()`\n",
            "  df[clean_name] = (df[col] == val).astype(int)\n",
            "<ipython-input-29-f7463e5f96ca>:18: PerformanceWarning: DataFrame is highly fragmented.  This is usually the result of calling `frame.insert` many times, which has poor performance.  Consider joining all columns at once using pd.concat(axis=1) instead. To get a de-fragmented frame, use `newframe = frame.copy()`\n",
            "  df[clean_name] = (df[col] == val).astype(int)\n",
            "<ipython-input-29-f7463e5f96ca>:18: PerformanceWarning: DataFrame is highly fragmented.  This is usually the result of calling `frame.insert` many times, which has poor performance.  Consider joining all columns at once using pd.concat(axis=1) instead. To get a de-fragmented frame, use `newframe = frame.copy()`\n",
            "  df[clean_name] = (df[col] == val).astype(int)\n",
            "<ipython-input-29-f7463e5f96ca>:18: PerformanceWarning: DataFrame is highly fragmented.  This is usually the result of calling `frame.insert` many times, which has poor performance.  Consider joining all columns at once using pd.concat(axis=1) instead. To get a de-fragmented frame, use `newframe = frame.copy()`\n",
            "  df[clean_name] = (df[col] == val).astype(int)\n",
            "<ipython-input-29-f7463e5f96ca>:18: PerformanceWarning: DataFrame is highly fragmented.  This is usually the result of calling `frame.insert` many times, which has poor performance.  Consider joining all columns at once using pd.concat(axis=1) instead. To get a de-fragmented frame, use `newframe = frame.copy()`\n",
            "  df[clean_name] = (df[col] == val).astype(int)\n",
            "<ipython-input-29-f7463e5f96ca>:18: PerformanceWarning: DataFrame is highly fragmented.  This is usually the result of calling `frame.insert` many times, which has poor performance.  Consider joining all columns at once using pd.concat(axis=1) instead. To get a de-fragmented frame, use `newframe = frame.copy()`\n",
            "  df[clean_name] = (df[col] == val).astype(int)\n",
            "<ipython-input-29-f7463e5f96ca>:18: PerformanceWarning: DataFrame is highly fragmented.  This is usually the result of calling `frame.insert` many times, which has poor performance.  Consider joining all columns at once using pd.concat(axis=1) instead. To get a de-fragmented frame, use `newframe = frame.copy()`\n",
            "  df[clean_name] = (df[col] == val).astype(int)\n",
            "<ipython-input-29-f7463e5f96ca>:18: PerformanceWarning: DataFrame is highly fragmented.  This is usually the result of calling `frame.insert` many times, which has poor performance.  Consider joining all columns at once using pd.concat(axis=1) instead. To get a de-fragmented frame, use `newframe = frame.copy()`\n",
            "  df[clean_name] = (df[col] == val).astype(int)\n",
            "<ipython-input-29-f7463e5f96ca>:18: PerformanceWarning: DataFrame is highly fragmented.  This is usually the result of calling `frame.insert` many times, which has poor performance.  Consider joining all columns at once using pd.concat(axis=1) instead. To get a de-fragmented frame, use `newframe = frame.copy()`\n",
            "  df[clean_name] = (df[col] == val).astype(int)\n",
            "<ipython-input-29-f7463e5f96ca>:18: PerformanceWarning: DataFrame is highly fragmented.  This is usually the result of calling `frame.insert` many times, which has poor performance.  Consider joining all columns at once using pd.concat(axis=1) instead. To get a de-fragmented frame, use `newframe = frame.copy()`\n",
            "  df[clean_name] = (df[col] == val).astype(int)\n",
            "<ipython-input-29-f7463e5f96ca>:18: PerformanceWarning: DataFrame is highly fragmented.  This is usually the result of calling `frame.insert` many times, which has poor performance.  Consider joining all columns at once using pd.concat(axis=1) instead. To get a de-fragmented frame, use `newframe = frame.copy()`\n",
            "  df[clean_name] = (df[col] == val).astype(int)\n",
            "<ipython-input-29-f7463e5f96ca>:18: PerformanceWarning: DataFrame is highly fragmented.  This is usually the result of calling `frame.insert` many times, which has poor performance.  Consider joining all columns at once using pd.concat(axis=1) instead. To get a de-fragmented frame, use `newframe = frame.copy()`\n",
            "  df[clean_name] = (df[col] == val).astype(int)\n",
            "<ipython-input-29-f7463e5f96ca>:18: PerformanceWarning: DataFrame is highly fragmented.  This is usually the result of calling `frame.insert` many times, which has poor performance.  Consider joining all columns at once using pd.concat(axis=1) instead. To get a de-fragmented frame, use `newframe = frame.copy()`\n",
            "  df[clean_name] = (df[col] == val).astype(int)\n",
            "<ipython-input-29-f7463e5f96ca>:18: PerformanceWarning: DataFrame is highly fragmented.  This is usually the result of calling `frame.insert` many times, which has poor performance.  Consider joining all columns at once using pd.concat(axis=1) instead. To get a de-fragmented frame, use `newframe = frame.copy()`\n",
            "  df[clean_name] = (df[col] == val).astype(int)\n",
            "<ipython-input-29-f7463e5f96ca>:18: PerformanceWarning: DataFrame is highly fragmented.  This is usually the result of calling `frame.insert` many times, which has poor performance.  Consider joining all columns at once using pd.concat(axis=1) instead. To get a de-fragmented frame, use `newframe = frame.copy()`\n",
            "  df[clean_name] = (df[col] == val).astype(int)\n",
            "<ipython-input-29-f7463e5f96ca>:18: PerformanceWarning: DataFrame is highly fragmented.  This is usually the result of calling `frame.insert` many times, which has poor performance.  Consider joining all columns at once using pd.concat(axis=1) instead. To get a de-fragmented frame, use `newframe = frame.copy()`\n",
            "  df[clean_name] = (df[col] == val).astype(int)\n",
            "<ipython-input-29-f7463e5f96ca>:18: PerformanceWarning: DataFrame is highly fragmented.  This is usually the result of calling `frame.insert` many times, which has poor performance.  Consider joining all columns at once using pd.concat(axis=1) instead. To get a de-fragmented frame, use `newframe = frame.copy()`\n",
            "  df[clean_name] = (df[col] == val).astype(int)\n",
            "<ipython-input-29-f7463e5f96ca>:18: PerformanceWarning: DataFrame is highly fragmented.  This is usually the result of calling `frame.insert` many times, which has poor performance.  Consider joining all columns at once using pd.concat(axis=1) instead. To get a de-fragmented frame, use `newframe = frame.copy()`\n",
            "  df[clean_name] = (df[col] == val).astype(int)\n",
            "<ipython-input-29-f7463e5f96ca>:18: PerformanceWarning: DataFrame is highly fragmented.  This is usually the result of calling `frame.insert` many times, which has poor performance.  Consider joining all columns at once using pd.concat(axis=1) instead. To get a de-fragmented frame, use `newframe = frame.copy()`\n",
            "  df[clean_name] = (df[col] == val).astype(int)\n",
            "<ipython-input-29-f7463e5f96ca>:18: PerformanceWarning: DataFrame is highly fragmented.  This is usually the result of calling `frame.insert` many times, which has poor performance.  Consider joining all columns at once using pd.concat(axis=1) instead. To get a de-fragmented frame, use `newframe = frame.copy()`\n",
            "  df[clean_name] = (df[col] == val).astype(int)\n",
            "<ipython-input-29-f7463e5f96ca>:18: PerformanceWarning: DataFrame is highly fragmented.  This is usually the result of calling `frame.insert` many times, which has poor performance.  Consider joining all columns at once using pd.concat(axis=1) instead. To get a de-fragmented frame, use `newframe = frame.copy()`\n",
            "  df[clean_name] = (df[col] == val).astype(int)\n",
            "<ipython-input-29-f7463e5f96ca>:18: PerformanceWarning: DataFrame is highly fragmented.  This is usually the result of calling `frame.insert` many times, which has poor performance.  Consider joining all columns at once using pd.concat(axis=1) instead. To get a de-fragmented frame, use `newframe = frame.copy()`\n",
            "  df[clean_name] = (df[col] == val).astype(int)\n",
            "<ipython-input-29-f7463e5f96ca>:18: PerformanceWarning: DataFrame is highly fragmented.  This is usually the result of calling `frame.insert` many times, which has poor performance.  Consider joining all columns at once using pd.concat(axis=1) instead. To get a de-fragmented frame, use `newframe = frame.copy()`\n",
            "  df[clean_name] = (df[col] == val).astype(int)\n",
            "<ipython-input-29-f7463e5f96ca>:18: PerformanceWarning: DataFrame is highly fragmented.  This is usually the result of calling `frame.insert` many times, which has poor performance.  Consider joining all columns at once using pd.concat(axis=1) instead. To get a de-fragmented frame, use `newframe = frame.copy()`\n",
            "  df[clean_name] = (df[col] == val).astype(int)\n",
            "<ipython-input-29-f7463e5f96ca>:18: PerformanceWarning: DataFrame is highly fragmented.  This is usually the result of calling `frame.insert` many times, which has poor performance.  Consider joining all columns at once using pd.concat(axis=1) instead. To get a de-fragmented frame, use `newframe = frame.copy()`\n",
            "  df[clean_name] = (df[col] == val).astype(int)\n",
            "<ipython-input-29-f7463e5f96ca>:18: PerformanceWarning: DataFrame is highly fragmented.  This is usually the result of calling `frame.insert` many times, which has poor performance.  Consider joining all columns at once using pd.concat(axis=1) instead. To get a de-fragmented frame, use `newframe = frame.copy()`\n",
            "  df[clean_name] = (df[col] == val).astype(int)\n",
            "<ipython-input-29-f7463e5f96ca>:18: PerformanceWarning: DataFrame is highly fragmented.  This is usually the result of calling `frame.insert` many times, which has poor performance.  Consider joining all columns at once using pd.concat(axis=1) instead. To get a de-fragmented frame, use `newframe = frame.copy()`\n",
            "  df[clean_name] = (df[col] == val).astype(int)\n",
            "<ipython-input-29-f7463e5f96ca>:18: PerformanceWarning: DataFrame is highly fragmented.  This is usually the result of calling `frame.insert` many times, which has poor performance.  Consider joining all columns at once using pd.concat(axis=1) instead. To get a de-fragmented frame, use `newframe = frame.copy()`\n",
            "  df[clean_name] = (df[col] == val).astype(int)\n",
            "<ipython-input-29-f7463e5f96ca>:18: PerformanceWarning: DataFrame is highly fragmented.  This is usually the result of calling `frame.insert` many times, which has poor performance.  Consider joining all columns at once using pd.concat(axis=1) instead. To get a de-fragmented frame, use `newframe = frame.copy()`\n",
            "  df[clean_name] = (df[col] == val).astype(int)\n",
            "<ipython-input-29-f7463e5f96ca>:18: PerformanceWarning: DataFrame is highly fragmented.  This is usually the result of calling `frame.insert` many times, which has poor performance.  Consider joining all columns at once using pd.concat(axis=1) instead. To get a de-fragmented frame, use `newframe = frame.copy()`\n",
            "  df[clean_name] = (df[col] == val).astype(int)\n",
            "<ipython-input-29-f7463e5f96ca>:18: PerformanceWarning: DataFrame is highly fragmented.  This is usually the result of calling `frame.insert` many times, which has poor performance.  Consider joining all columns at once using pd.concat(axis=1) instead. To get a de-fragmented frame, use `newframe = frame.copy()`\n",
            "  df[clean_name] = (df[col] == val).astype(int)\n",
            "<ipython-input-29-f7463e5f96ca>:18: PerformanceWarning: DataFrame is highly fragmented.  This is usually the result of calling `frame.insert` many times, which has poor performance.  Consider joining all columns at once using pd.concat(axis=1) instead. To get a de-fragmented frame, use `newframe = frame.copy()`\n",
            "  df[clean_name] = (df[col] == val).astype(int)\n",
            "<ipython-input-29-f7463e5f96ca>:18: PerformanceWarning: DataFrame is highly fragmented.  This is usually the result of calling `frame.insert` many times, which has poor performance.  Consider joining all columns at once using pd.concat(axis=1) instead. To get a de-fragmented frame, use `newframe = frame.copy()`\n",
            "  df[clean_name] = (df[col] == val).astype(int)\n",
            "<ipython-input-29-f7463e5f96ca>:18: PerformanceWarning: DataFrame is highly fragmented.  This is usually the result of calling `frame.insert` many times, which has poor performance.  Consider joining all columns at once using pd.concat(axis=1) instead. To get a de-fragmented frame, use `newframe = frame.copy()`\n",
            "  df[clean_name] = (df[col] == val).astype(int)\n",
            "<ipython-input-29-f7463e5f96ca>:18: PerformanceWarning: DataFrame is highly fragmented.  This is usually the result of calling `frame.insert` many times, which has poor performance.  Consider joining all columns at once using pd.concat(axis=1) instead. To get a de-fragmented frame, use `newframe = frame.copy()`\n",
            "  df[clean_name] = (df[col] == val).astype(int)\n",
            "<ipython-input-29-f7463e5f96ca>:18: PerformanceWarning: DataFrame is highly fragmented.  This is usually the result of calling `frame.insert` many times, which has poor performance.  Consider joining all columns at once using pd.concat(axis=1) instead. To get a de-fragmented frame, use `newframe = frame.copy()`\n",
            "  df[clean_name] = (df[col] == val).astype(int)\n",
            "<ipython-input-29-f7463e5f96ca>:18: PerformanceWarning: DataFrame is highly fragmented.  This is usually the result of calling `frame.insert` many times, which has poor performance.  Consider joining all columns at once using pd.concat(axis=1) instead. To get a de-fragmented frame, use `newframe = frame.copy()`\n",
            "  df[clean_name] = (df[col] == val).astype(int)\n"
          ]
        }
      ]
    },
    {
      "cell_type": "code",
      "source": [
        "# average sal\n",
        "def salary_to_mid(x):\n",
        "    if pd.isna(x) or 'Prefer not' in x or 'I do not wish to disclose' in x:\n",
        "        return np.nan\n",
        "    x = x.replace('$','').replace(',','').replace('+','').strip()\n",
        "    if 'or more' in x:\n",
        "        try:\n",
        "            return float(x.split(' ')[0])\n",
        "        except:\n",
        "            return np.nan\n",
        "    try:\n",
        "        low, high = map(float, x.split('-'))\n",
        "        return (low + high) / 2\n",
        "    except:\n",
        "        return np.nan\n",
        "\n",
        "df['Salary'] = df['Q29'].apply(salary_to_mid)"
      ],
      "metadata": {
        "id": "wKfIC13xi7vR"
      },
      "execution_count": 26,
      "outputs": []
    },
    {
      "cell_type": "code",
      "source": [
        "# One-hot encode only truly unprocessed single-answer categoricals\n",
        "leftover_categoricals = ['Q22', 'Q23', 'Q24', 'Q27']\n",
        "leftover_categoricals = [col for col in leftover_categoricals if col in df.columns]\n",
        "\n",
        "df = pd.get_dummies(df, columns=leftover_categoricals, prefix=leftover_categoricals)"
      ],
      "metadata": {
        "id": "PDnxf54as0YF"
      },
      "execution_count": 54,
      "outputs": []
    },
    {
      "cell_type": "code",
      "source": [
        "#q16\n",
        "ml_exp_map = {\n",
        "    'I do not use machine learning methods': 0,\n",
        "    'Under 1 year': 0.5,\n",
        "    '1-2 years': 1.5,\n",
        "    '2-3 years': 2.5,\n",
        "    '3-4 years': 3.5,\n",
        "    '4-5 years': 4.5,\n",
        "    '5-10 years': 7.5,\n",
        "    '10-20 years': 15,\n",
        "    '20 or more years': 25\n",
        "}\n",
        "\n",
        "if 'Q16' in df.columns:\n",
        "    df['ML_Experience_yrs'] = df['Q16'].map(ml_exp_map)\n",
        "    df['ML_Experience_yrs'] = df['ML_Experience_yrs'].fillna(df['ML_Experience_yrs'].median())\n",
        "    df.drop(columns=['Q16'], inplace=True)\n",
        "\n",
        "# Q26: Map Team Size\n",
        "team_size_map = {\n",
        "    '0': 0,\n",
        "    '1-2': 1,\n",
        "    '3-4': 2,\n",
        "    '5-9': 3,\n",
        "    '10-14': 4,\n",
        "    '15-19': 5,\n",
        "    '20+': 6,\n",
        "    'I do not know': -1\n",
        "}\n",
        "\n",
        "\n",
        "# q 27\n",
        "if 'Q27' in df.columns:\n",
        "    df = pd.get_dummies(df, columns=['Q27'], prefix='ML_Use')\n",
        "\n",
        "# Map Q30 to numeric midpoints\n",
        "spend_map = {\n",
        "    '$0 ($USD)': 0,\n",
        "    '$1-$99': 50,\n",
        "    '$100-$999': 550,\n",
        "    '$1000-$9,999': 5500,\n",
        "    '$10,000-$99,999': 55000,\n",
        "    '$100,000 or more ($USD)': 100000\n",
        "}\n",
        "\n",
        "if 'Q30' in df.columns:\n",
        "    df['ML_Spend_5yr'] = df['Q30'].map(spend_map)\n",
        "    df['ML_Spend_5yr'] = df['ML_Spend_5yr'].fillna(df['ML_Spend_5yr'].median())\n",
        "\n",
        "    # Optional: drop Q30 after mapping\n",
        "    df.drop(columns=['Q30'], inplace=True)\n",
        "\n"
      ],
      "metadata": {
        "id": "Pg9EzFsnsPzt"
      },
      "execution_count": 64,
      "outputs": []
    },
    {
      "cell_type": "code",
      "source": [
        "# Fill missing experience values with median (continuous variable)\n",
        "if 'YearsCode_num' in df.columns:\n",
        "    df['YearsCode_num'] = df['YearsCode_num'].astype(float).fillna(df['YearsCode_num'].median())\n",
        "\n",
        "# Fill missing company size with median ordinal value\n",
        "if 'CompanySize_ord' in df.columns:\n",
        "    df['CompanySize_ord'] = df['CompanySize_ord'].astype(float).fillna(df['CompanySize_ord'].median())\n",
        "\n",
        "# Fill missing team size with median ordinal value\n",
        "if 'TeamSize_ord' in df.columns:\n",
        "    df['TeamSize_ord'] = df['TeamSize_ord'].astype(float).fillna(df['TeamSize_ord'].median())\n",
        "\n",
        "# Fill missing edu with median\n",
        "if 'Education_ord' in df.columns:\n",
        "    df['Education_ord'] = df['Education_ord'].astype(float).fillna(df['Education_ord'].median())\n"
      ],
      "metadata": {
        "id": "8dx-29Tvvo39"
      },
      "execution_count": 65,
      "outputs": []
    },
    {
      "cell_type": "code",
      "source": [
        "# Define raw columns to remove\n",
        "raw_columns_to_drop = [\n",
        "    'Duration (in seconds)', 'Q2', 'Q3', 'Q4', 'Q5', 'Q8', 'Q9', 'Q11', 'Q29', 'Q32', 'Q43',\n",
        "    'Q10_1', 'Q10_2', 'Q10_3',\n",
        "    'Q16', 'Q22', 'Q23', 'Q24', 'Q25', 'Q26', 'Q27', 'Q30'\n",
        "]\n",
        "\n",
        "# Add multi-part columns\n",
        "multi_part_prefixes = [f\"Q{i}_\" for i in range(6, 45)]\n",
        "multi_part_columns = [col for col in df.columns if any(col.startswith(prefix) for prefix in multi_part_prefixes)]\n",
        "\n",
        "# Combine and drop\n",
        "all_raw_columns = raw_columns_to_drop + multi_part_columns\n",
        "df.drop(columns=[col for col in all_raw_columns if col in df.columns], inplace=True)\n"
      ],
      "metadata": {
        "id": "hS1akTpYpsHv"
      },
      "execution_count": 66,
      "outputs": []
    },
    {
      "cell_type": "code",
      "source": [
        "#fix team size was not mapping\n",
        "df_raw = pd.read_csv(\"kaggle_survey_2022_responses.csv\", low_memory=False).iloc[1:].copy()\n",
        "df['Q26'] = df_raw['Q26']\n",
        "\n",
        "team_size_map = {\n",
        "    '0': 0,\n",
        "    '1-2': 1,\n",
        "    '3-4': 2,\n",
        "    '5-9': 3,\n",
        "    '10-14': 4,\n",
        "    '15-19': 5,\n",
        "    '20+': 6,\n",
        "    'I do not know': -1\n",
        "}\n",
        "\n",
        "df['TeamSize_ord'] = df['Q26'].map(team_size_map)\n",
        "df['TeamSize_ord'] = df['TeamSize_ord'].fillna(df['TeamSize_ord'].median())"
      ],
      "metadata": {
        "id": "8wW1muKr0fMd"
      },
      "execution_count": 69,
      "outputs": []
    },
    {
      "cell_type": "code",
      "source": [
        "# redrop\n",
        "df.drop(columns=['Q26'], inplace=True)\n"
      ],
      "metadata": {
        "id": "NBQ8NAWr0xg1"
      },
      "execution_count": 72,
      "outputs": []
    },
    {
      "cell_type": "code",
      "source": [
        "from sklearn.pipeline import Pipeline\n",
        "from sklearn.impute import SimpleImputer\n",
        "from sklearn.preprocessing import OneHotEncoder\n",
        "from sklearn.compose import ColumnTransformer\n",
        "from sklearn.ensemble import GradientBoostingRegressor\n",
        "\n",
        "# Features to use for prediction — using only those present\n",
        "core_features = ['Education_ord', 'YearsCode_num', 'Age_mid', 'CompanySize_ord', 'TeamSize_ord', 'Country_clean']\n",
        "core_features = [col for col in core_features if col in df.columns]\n",
        "\n",
        "# Prepare known and unknown salary subsets\n",
        "model_data = df[core_features + ['Salary']]\n",
        "known_salary = model_data[model_data['Salary'].notnull()]\n",
        "missing_salary = model_data[model_data['Salary'].isnull()]\n",
        "\n",
        "X_known = known_salary[core_features]\n",
        "y_known = known_salary['Salary']\n",
        "X_missing = missing_salary[core_features]\n",
        "\n",
        "# Build preprocessing pipeline\n",
        "numeric_features = [col for col in core_features if col != 'Country_clean']\n",
        "categorical_features = ['Country_clean'] if 'Country_clean' in core_features else []\n",
        "\n",
        "preprocessor = ColumnTransformer(transformers=[\n",
        "    ('num', SimpleImputer(strategy='median'), numeric_features),\n",
        "    ('cat', Pipeline([\n",
        "        ('imputer', SimpleImputer(strategy='constant', fill_value='Missing')),\n",
        "        ('onehot', OneHotEncoder(handle_unknown='ignore'))\n",
        "    ]), categorical_features)\n",
        "])\n",
        "\n",
        "# Full pipeline with Gradient Boosting Regressor\n",
        "pipe = Pipeline(steps=[\n",
        "    ('preprocessor', preprocessor),\n",
        "    ('model', GradientBoostingRegressor(random_state=42))\n",
        "])\n",
        "\n",
        "# Train and predict\n",
        "if not X_missing.empty:\n",
        "    pipe.fit(X_known, y_known)\n",
        "    df.loc[X_missing.index, 'Salary'] = pipe.predict(X_missing)\n"
      ],
      "metadata": {
        "id": "QMD0PZjPqALD"
      },
      "execution_count": 73,
      "outputs": []
    },
    {
      "cell_type": "code",
      "source": [
        "df.to_csv(\"kaggle_survey_cleaned_final.csv\", index=False)\n",
        "from google.colab import files\n",
        "files.download(\"kaggle_survey_cleaned_final.csv\")\n"
      ],
      "metadata": {
        "colab": {
          "base_uri": "https://localhost:8080/",
          "height": 17
        },
        "id": "M78T4jPEuHe-",
        "outputId": "96725144-d9e6-47b6-d7bf-e8ba64f558ea"
      },
      "execution_count": 74,
      "outputs": [
        {
          "output_type": "display_data",
          "data": {
            "text/plain": [
              "<IPython.core.display.Javascript object>"
            ],
            "application/javascript": [
              "\n",
              "    async function download(id, filename, size) {\n",
              "      if (!google.colab.kernel.accessAllowed) {\n",
              "        return;\n",
              "      }\n",
              "      const div = document.createElement('div');\n",
              "      const label = document.createElement('label');\n",
              "      label.textContent = `Downloading \"${filename}\": `;\n",
              "      div.appendChild(label);\n",
              "      const progress = document.createElement('progress');\n",
              "      progress.max = size;\n",
              "      div.appendChild(progress);\n",
              "      document.body.appendChild(div);\n",
              "\n",
              "      const buffers = [];\n",
              "      let downloaded = 0;\n",
              "\n",
              "      const channel = await google.colab.kernel.comms.open(id);\n",
              "      // Send a message to notify the kernel that we're ready.\n",
              "      channel.send({})\n",
              "\n",
              "      for await (const message of channel.messages) {\n",
              "        // Send a message to notify the kernel that we're ready.\n",
              "        channel.send({})\n",
              "        if (message.buffers) {\n",
              "          for (const buffer of message.buffers) {\n",
              "            buffers.push(buffer);\n",
              "            downloaded += buffer.byteLength;\n",
              "            progress.value = downloaded;\n",
              "          }\n",
              "        }\n",
              "      }\n",
              "      const blob = new Blob(buffers, {type: 'application/binary'});\n",
              "      const a = document.createElement('a');\n",
              "      a.href = window.URL.createObjectURL(blob);\n",
              "      a.download = filename;\n",
              "      div.appendChild(a);\n",
              "      a.click();\n",
              "      div.remove();\n",
              "    }\n",
              "  "
            ]
          },
          "metadata": {}
        },
        {
          "output_type": "display_data",
          "data": {
            "text/plain": [
              "<IPython.core.display.Javascript object>"
            ],
            "application/javascript": [
              "download(\"download_97201b74-8df6-4e15-b7d5-f40d1946c1d1\", \"kaggle_survey_cleaned_final.csv\", 2957709)"
            ]
          },
          "metadata": {}
        }
      ]
    }
  ]
}